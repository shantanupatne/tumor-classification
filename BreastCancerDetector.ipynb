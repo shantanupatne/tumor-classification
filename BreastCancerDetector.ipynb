{
  "nbformat": 4,
  "nbformat_minor": 0,
  "metadata": {
    "colab": {
      "name": "BreastCancerDetector.ipynb",
      "provenance": [],
      "collapsed_sections": [],
      "toc_visible": true,
      "authorship_tag": "ABX9TyP2oQduWrXX+SwGEGUy6qv3"
    },
    "kernelspec": {
      "name": "python3",
      "display_name": "Python 3"
    }
  },
  "cells": [
    {
      "cell_type": "markdown",
      "metadata": {
        "id": "DRGQGDDMhz6j",
        "colab_type": "text"
      },
      "source": [
        "# Breast Cancer Detector\n",
        "Detecting breast cancer in a patient using KNN.\n",
        "\n",
        "Dataset used is the Original Wisconsin Breast Cancer Database from UCI Machine Learning Repository"
      ]
    },
    {
      "cell_type": "markdown",
      "metadata": {
        "id": "EAxemI2iidl5",
        "colab_type": "text"
      },
      "source": [
        "The dataset consists of 9 independent features and a target variable. The target variable classifies the tumor as benign and malignant. \n",
        "\n",
        "The algorithm has been scored on test set prediction using ROC curve and Classification report"
      ]
    },
    {
      "cell_type": "markdown",
      "metadata": {
        "id": "m5OFe1p7jW4p",
        "colab_type": "text"
      },
      "source": [
        "##Importing Libraries and Dataset\n"
      ]
    },
    {
      "cell_type": "code",
      "metadata": {
        "id": "eeeyhmRFjKO0",
        "colab_type": "code",
        "colab": {}
      },
      "source": [
        "import pandas as pd\n",
        "import numpy as np\n",
        "dataset = pd.read_csv(r'/breast_cancer.csv')\n",
        "X = dataset.iloc[:, 1:-1].values\n",
        "y = dataset.iloc[:,-1].values"
      ],
      "execution_count": 79,
      "outputs": []
    },
    {
      "cell_type": "markdown",
      "metadata": {
        "id": "Tx7cAayJjaS6",
        "colab_type": "text"
      },
      "source": [
        "##Dataset Splitting"
      ]
    },
    {
      "cell_type": "code",
      "metadata": {
        "id": "c4-OjAy1jhfl",
        "colab_type": "code",
        "colab": {}
      },
      "source": [
        "from sklearn.model_selection import train_test_split\n",
        "X_train, X_test, y_train, y_test = train_test_split(X, y, test_size = 0.2, random_state = 0)\n",
        "\n",
        "from sklearn.preprocessing import StandardScaler\n",
        "sc_x = StandardScaler()\n",
        "X_train = sc_x.fit_transform(X_train)\n",
        "X_test = sc_x.transform(X_test)\n"
      ],
      "execution_count": 83,
      "outputs": []
    },
    {
      "cell_type": "markdown",
      "metadata": {
        "id": "Q9qfqxey2snr",
        "colab_type": "text"
      },
      "source": [
        "##KNN\n"
      ]
    },
    {
      "cell_type": "markdown",
      "metadata": {
        "id": "XbH4m57PKUX7",
        "colab_type": "text"
      },
      "source": [
        "###Hyperparameter Tuning & Training"
      ]
    },
    {
      "cell_type": "code",
      "metadata": {
        "id": "Gu4DMZ1c2xhW",
        "colab_type": "code",
        "colab": {
          "base_uri": "https://localhost:8080/",
          "height": 68
        },
        "outputId": "9c8df5b1-a0e0-4cc8-a363-7e875b752957"
      },
      "source": [
        "from sklearn.neighbors import KNeighborsClassifier\n",
        "from sklearn.metrics import classification_report, roc_auc_score\n",
        "from sklearn.model_selection import train_test_split, GridSearchCV\n",
        "\n",
        "#listing parameters to tune\n",
        "leaf_size = list(range(1,50))\n",
        "n_neighbors = list(range(1,30))\n",
        "p=[1,2]\n",
        "\n",
        "#creating dictionary of parameters\n",
        "hyperparameters = dict(leaf_size=leaf_size, n_neighbors=n_neighbors, p=p)\n",
        "\n",
        "#Creating model\n",
        "knn = KNeighborsClassifier()\n",
        "\n",
        "#Using GridSearch to tune parameters\n",
        "clf = GridSearchCV(knn, hyperparameters, cv=10)\n",
        "\n",
        "#training model\n",
        "best_model = clf.fit(X_train, y_train)\n",
        "\n",
        "print('Best leaf_size:', best_model.best_estimator_.get_params()['leaf_size'])\n",
        "print('Best p:', best_model.best_estimator_.get_params()['p'])\n",
        "print('Best n_neighbors:', best_model.best_estimator_.get_params()['n_neighbors'])"
      ],
      "execution_count": 84,
      "outputs": [
        {
          "output_type": "stream",
          "text": [
            "Best leaf_size: 1\n",
            "Best p: 1\n",
            "Best n_neighbors: 3\n"
          ],
          "name": "stdout"
        }
      ]
    },
    {
      "cell_type": "markdown",
      "metadata": {
        "id": "BCl9cclGGcNQ",
        "colab_type": "text"
      },
      "source": [
        "###Testing and evaluating"
      ]
    },
    {
      "cell_type": "code",
      "metadata": {
        "id": "Plhoz7gBGfPB",
        "colab_type": "code",
        "colab": {
          "base_uri": "https://localhost:8080/",
          "height": 187
        },
        "outputId": "835a48e6-0183-4e37-cb35-b7f0dbb01062"
      },
      "source": [
        "#Predict test data set.\n",
        "y_pred = clf.predict(X_test)\n",
        "#Checking performance our model with classification report.\n",
        "print(classification_report(y_test, y_pred))\n",
        "#Checking performance our model with ROC Score.\n",
        "roc_auc_score(y_test, y_pred, average='weighted')"
      ],
      "execution_count": 56,
      "outputs": [
        {
          "output_type": "stream",
          "text": [
            "              precision    recall  f1-score   support\n",
            "\n",
            "           2       1.00      0.97      0.98        93\n",
            "           4       0.93      1.00      0.97        43\n",
            "\n",
            "    accuracy                           0.98       136\n",
            "   macro avg       0.97      0.98      0.97       136\n",
            "weighted avg       0.98      0.98      0.98       136\n",
            "\n"
          ],
          "name": "stdout"
        },
        {
          "output_type": "execute_result",
          "data": {
            "text/plain": [
              "0.9838709677419355"
            ]
          },
          "metadata": {
            "tags": []
          },
          "execution_count": 56
        }
      ]
    }
  ]
}
